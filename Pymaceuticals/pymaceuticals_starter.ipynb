{
 "cells": [
  {
   "cell_type": "markdown",
   "metadata": {},
   "source": [
    "## Observations and Insights"
   ]
  },
  {
   "cell_type": "markdown",
   "metadata": {},
   "source": []
  },
  {
   "cell_type": "markdown",
   "metadata": {},
   "source": [
    "## Dependencies and starter code"
   ]
  },
  {
   "cell_type": "code",
   "execution_count": 1,
   "metadata": {
    "scrolled": true
   },
   "outputs": [
    {
     "data": {
      "text/html": [
       "<div>\n",
       "<style scoped>\n",
       "    .dataframe tbody tr th:only-of-type {\n",
       "        vertical-align: middle;\n",
       "    }\n",
       "\n",
       "    .dataframe tbody tr th {\n",
       "        vertical-align: top;\n",
       "    }\n",
       "\n",
       "    .dataframe thead th {\n",
       "        text-align: right;\n",
       "    }\n",
       "</style>\n",
       "<table border=\"1\" class=\"dataframe\">\n",
       "  <thead>\n",
       "    <tr style=\"text-align: right;\">\n",
       "      <th></th>\n",
       "      <th>Mouse ID</th>\n",
       "      <th>Drug Regimen</th>\n",
       "      <th>Sex</th>\n",
       "      <th>Age_months</th>\n",
       "      <th>Weight (g)</th>\n",
       "      <th>Timepoint</th>\n",
       "      <th>Tumor Volume (mm3)</th>\n",
       "      <th>Metastatic Sites</th>\n",
       "    </tr>\n",
       "  </thead>\n",
       "  <tbody>\n",
       "    <tr>\n",
       "      <td>0</td>\n",
       "      <td>k403</td>\n",
       "      <td>Ramicane</td>\n",
       "      <td>Male</td>\n",
       "      <td>21</td>\n",
       "      <td>16</td>\n",
       "      <td>0</td>\n",
       "      <td>45.000000</td>\n",
       "      <td>0</td>\n",
       "    </tr>\n",
       "    <tr>\n",
       "      <td>1</td>\n",
       "      <td>k403</td>\n",
       "      <td>Ramicane</td>\n",
       "      <td>Male</td>\n",
       "      <td>21</td>\n",
       "      <td>16</td>\n",
       "      <td>5</td>\n",
       "      <td>38.825898</td>\n",
       "      <td>0</td>\n",
       "    </tr>\n",
       "    <tr>\n",
       "      <td>2</td>\n",
       "      <td>k403</td>\n",
       "      <td>Ramicane</td>\n",
       "      <td>Male</td>\n",
       "      <td>21</td>\n",
       "      <td>16</td>\n",
       "      <td>10</td>\n",
       "      <td>35.014271</td>\n",
       "      <td>1</td>\n",
       "    </tr>\n",
       "    <tr>\n",
       "      <td>3</td>\n",
       "      <td>k403</td>\n",
       "      <td>Ramicane</td>\n",
       "      <td>Male</td>\n",
       "      <td>21</td>\n",
       "      <td>16</td>\n",
       "      <td>15</td>\n",
       "      <td>34.223992</td>\n",
       "      <td>1</td>\n",
       "    </tr>\n",
       "    <tr>\n",
       "      <td>4</td>\n",
       "      <td>k403</td>\n",
       "      <td>Ramicane</td>\n",
       "      <td>Male</td>\n",
       "      <td>21</td>\n",
       "      <td>16</td>\n",
       "      <td>20</td>\n",
       "      <td>32.997729</td>\n",
       "      <td>1</td>\n",
       "    </tr>\n",
       "  </tbody>\n",
       "</table>\n",
       "</div>"
      ],
      "text/plain": [
       "  Mouse ID Drug Regimen   Sex  Age_months  Weight (g)  Timepoint  \\\n",
       "0     k403     Ramicane  Male          21          16          0   \n",
       "1     k403     Ramicane  Male          21          16          5   \n",
       "2     k403     Ramicane  Male          21          16         10   \n",
       "3     k403     Ramicane  Male          21          16         15   \n",
       "4     k403     Ramicane  Male          21          16         20   \n",
       "\n",
       "   Tumor Volume (mm3)  Metastatic Sites  \n",
       "0           45.000000                 0  \n",
       "1           38.825898                 0  \n",
       "2           35.014271                 1  \n",
       "3           34.223992                 1  \n",
       "4           32.997729                 1  "
      ]
     },
     "execution_count": 1,
     "metadata": {},
     "output_type": "execute_result"
    }
   ],
   "source": [
    "# Dependencies and Setup\n",
    "import matplotlib.pyplot as plt\n",
    "import pandas as pd\n",
    "import scipy.stats as st\n",
    "import numpy as np\n",
    "\n",
    "# Study data files\n",
    "mouse_metadata = \"data/Mouse_metadata.csv\"\n",
    "study_results = \"data/Study_results.csv\"\n",
    "\n",
    "# Read the mouse data and the study results\n",
    "mouse_metadata = pd.read_csv(mouse_metadata)\n",
    "study_results = pd.read_csv(study_results)\n",
    "\n",
    "# Combine the data into a single dataset\n",
    "combined_data = pd.merge(mouse_metadata, study_results, how=\"outer\", on=\"Mouse ID\")\n",
    "\n",
    "combined_data.head()\n",
    "#combined_data.to_csv(\"combined_data.csv\", index=False)"
   ]
  },
  {
   "cell_type": "markdown",
   "metadata": {},
   "source": [
    "## Summary statistics"
   ]
  },
  {
   "cell_type": "code",
   "execution_count": 2,
   "metadata": {},
   "outputs": [
    {
     "data": {
      "text/html": [
       "<div>\n",
       "<style scoped>\n",
       "    .dataframe tbody tr th:only-of-type {\n",
       "        vertical-align: middle;\n",
       "    }\n",
       "\n",
       "    .dataframe tbody tr th {\n",
       "        vertical-align: top;\n",
       "    }\n",
       "\n",
       "    .dataframe thead th {\n",
       "        text-align: right;\n",
       "    }\n",
       "</style>\n",
       "<table border=\"1\" class=\"dataframe\">\n",
       "  <thead>\n",
       "    <tr style=\"text-align: right;\">\n",
       "      <th></th>\n",
       "      <th>Tumor Volume Mean</th>\n",
       "      <th>Tumor Volume Median</th>\n",
       "      <th>Tumor Volume Variance</th>\n",
       "      <th>Tumor Volume Std Deviation</th>\n",
       "      <th>Tumor Volume Std Error</th>\n",
       "    </tr>\n",
       "    <tr>\n",
       "      <th>Drug Regimen</th>\n",
       "      <th></th>\n",
       "      <th></th>\n",
       "      <th></th>\n",
       "      <th></th>\n",
       "      <th></th>\n",
       "    </tr>\n",
       "  </thead>\n",
       "  <tbody>\n",
       "    <tr>\n",
       "      <td>Capomulin</td>\n",
       "      <td>40.675741</td>\n",
       "      <td>41.557809</td>\n",
       "      <td>24.947764</td>\n",
       "      <td>4.994774</td>\n",
       "      <td>0.329346</td>\n",
       "    </tr>\n",
       "    <tr>\n",
       "      <td>Ceftamin</td>\n",
       "      <td>52.591172</td>\n",
       "      <td>51.776157</td>\n",
       "      <td>39.290177</td>\n",
       "      <td>6.268188</td>\n",
       "      <td>0.469821</td>\n",
       "    </tr>\n",
       "    <tr>\n",
       "      <td>Infubinol</td>\n",
       "      <td>52.884795</td>\n",
       "      <td>51.820584</td>\n",
       "      <td>43.128684</td>\n",
       "      <td>6.567243</td>\n",
       "      <td>0.492236</td>\n",
       "    </tr>\n",
       "    <tr>\n",
       "      <td>Ketapril</td>\n",
       "      <td>55.235638</td>\n",
       "      <td>53.698743</td>\n",
       "      <td>68.553577</td>\n",
       "      <td>8.279709</td>\n",
       "      <td>0.603860</td>\n",
       "    </tr>\n",
       "    <tr>\n",
       "      <td>Naftisol</td>\n",
       "      <td>54.331565</td>\n",
       "      <td>52.509285</td>\n",
       "      <td>66.173479</td>\n",
       "      <td>8.134708</td>\n",
       "      <td>0.596466</td>\n",
       "    </tr>\n",
       "    <tr>\n",
       "      <td>Placebo</td>\n",
       "      <td>54.033581</td>\n",
       "      <td>52.288934</td>\n",
       "      <td>61.168083</td>\n",
       "      <td>7.821003</td>\n",
       "      <td>0.581331</td>\n",
       "    </tr>\n",
       "    <tr>\n",
       "      <td>Propriva</td>\n",
       "      <td>52.322552</td>\n",
       "      <td>50.854632</td>\n",
       "      <td>42.351070</td>\n",
       "      <td>6.507770</td>\n",
       "      <td>0.512884</td>\n",
       "    </tr>\n",
       "    <tr>\n",
       "      <td>Ramicane</td>\n",
       "      <td>40.216745</td>\n",
       "      <td>40.673236</td>\n",
       "      <td>23.486704</td>\n",
       "      <td>4.846308</td>\n",
       "      <td>0.320955</td>\n",
       "    </tr>\n",
       "    <tr>\n",
       "      <td>Stelasyn</td>\n",
       "      <td>54.233149</td>\n",
       "      <td>52.431737</td>\n",
       "      <td>59.450562</td>\n",
       "      <td>7.710419</td>\n",
       "      <td>0.573111</td>\n",
       "    </tr>\n",
       "    <tr>\n",
       "      <td>Zoniferol</td>\n",
       "      <td>53.236507</td>\n",
       "      <td>51.818479</td>\n",
       "      <td>48.533355</td>\n",
       "      <td>6.966589</td>\n",
       "      <td>0.516398</td>\n",
       "    </tr>\n",
       "  </tbody>\n",
       "</table>\n",
       "</div>"
      ],
      "text/plain": [
       "              Tumor Volume Mean  Tumor Volume Median  Tumor Volume Variance  \\\n",
       "Drug Regimen                                                                  \n",
       "Capomulin             40.675741            41.557809              24.947764   \n",
       "Ceftamin              52.591172            51.776157              39.290177   \n",
       "Infubinol             52.884795            51.820584              43.128684   \n",
       "Ketapril              55.235638            53.698743              68.553577   \n",
       "Naftisol              54.331565            52.509285              66.173479   \n",
       "Placebo               54.033581            52.288934              61.168083   \n",
       "Propriva              52.322552            50.854632              42.351070   \n",
       "Ramicane              40.216745            40.673236              23.486704   \n",
       "Stelasyn              54.233149            52.431737              59.450562   \n",
       "Zoniferol             53.236507            51.818479              48.533355   \n",
       "\n",
       "              Tumor Volume Std Deviation  Tumor Volume Std Error  \n",
       "Drug Regimen                                                      \n",
       "Capomulin                       4.994774                0.329346  \n",
       "Ceftamin                        6.268188                0.469821  \n",
       "Infubinol                       6.567243                0.492236  \n",
       "Ketapril                        8.279709                0.603860  \n",
       "Naftisol                        8.134708                0.596466  \n",
       "Placebo                         7.821003                0.581331  \n",
       "Propriva                        6.507770                0.512884  \n",
       "Ramicane                        4.846308                0.320955  \n",
       "Stelasyn                        7.710419                0.573111  \n",
       "Zoniferol                       6.966589                0.516398  "
      ]
     },
     "execution_count": 2,
     "metadata": {},
     "output_type": "execute_result"
    }
   ],
   "source": [
    "# Generate a summary statistics table of mean, median, variance, standard deviation, and SEM of the tumor volume for each regimen\n",
    "summary_statistics = combined_data.groupby([\"Drug Regimen\"])\n",
    "\n",
    "tumor_mean =  summary_statistics[\"Tumor Volume (mm3)\"].mean()\n",
    "tumor_median =  summary_statistics[\"Tumor Volume (mm3)\"].median()\n",
    "tumor_var =  summary_statistics[\"Tumor Volume (mm3)\"].var()\n",
    "tumor_std =  summary_statistics[\"Tumor Volume (mm3)\"].std()\n",
    "tumor_std_err = summary_statistics[\"Tumor Volume (mm3)\"].sem()\n",
    "\n",
    "summary_statistics = pd.DataFrame({\"Tumor Volume Mean\": tumor_mean,\n",
    "                                  \"Tumor Volume Median\": tumor_median,\n",
    "                                  \"Tumor Volume Variance\": tumor_var,\n",
    "                                  \"Tumor Volume Std Deviation\": tumor_std,\n",
    "                                  \"Tumor Volume Std Error\": tumor_std_err})\n",
    "\n",
    "summary_statistics\n"
   ]
  },
  {
   "cell_type": "markdown",
   "metadata": {},
   "source": [
    "## Bar plots"
   ]
  },
  {
   "cell_type": "code",
   "execution_count": 33,
   "metadata": {},
   "outputs": [
    {
     "data": {
      "image/png": "[encoded data removed]",
      "text/plain": [
       "<Figure size 432x288 with 1 Axes>"
      ]
     },
     "metadata": {
      "needs_background": "light"
     },
     "output_type": "display_data"
    }
   ],
   "source": [
    "# Generate a bar plot showing number of data points for each treatment regimen using pandas\n",
    "\n",
    "regimen_data_pd = pd.DataFrame(combined_data.groupby(combined_data[\"Drug Regimen\"]).\n",
    "                               count()).sort_values(\"Mouse ID\", ascending=False)\n",
    "regimen_data_pd = regimen_data_pd[\"Mouse ID\"]\n",
    "\n",
    "ax = regimen_data_pd.plot.bar(x='Drug Regimen', y='Mouse Count', rot=45)\n"
   ]
  },
  {
   "cell_type": "code",
   "execution_count": 25,
   "metadata": {},
   "outputs": [
    {
     "data": {
      "text/plain": [
       "Text(0, 0.5, 'Number of Data Points')"
      ]
     },
     "execution_count": 25,
     "metadata": {},
     "output_type": "execute_result"
    },
    {
     "data": {
      "image/png": "[encoded data removed]",
      "text/plain": [
       "<Figure size 432x288 with 1 Axes>"
      ]
     },
     "metadata": {
      "needs_background": "light"
     },
     "output_type": "display_data"
    }
   ],
   "source": [
    "# Generate a bar plot showing number of data points for each treatment regimen using pyplot\n",
    "regimen_data_pd_2 = combined_data.groupby(combined_data[\"Drug Regimen\"]).count()\n",
    "regimen_data_pd_df = pd.DataFrame(regimen_data_pd_2[\"Mouse ID\"]).sort_values(\"Mouse ID\", ascending=False)\n",
    "\n",
    "# x-axis\n",
    "regimen_list = list(regimen_data_pd_df.index)\n",
    "x_axis = np.arange(len(regimen_list))\n",
    "\n",
    "# y-axis\n",
    "data_points = list(regimen_data_pd_df[\"Mouse ID\"])\n",
    "\n",
    "# chart\n",
    "plt.bar(x_axis, data_points, alpha=0.5, align=\"center\")\n",
    "\n",
    "tick_locations = [value for value in x_axis]\n",
    "plt.xticks(tick_locations, regimen_list, rotation='45')\n",
    "\n",
    "plt.title(\"Drug Regimen\")\n",
    "plt.xlabel(\"Drug Regimen\")\n",
    "plt.ylabel(\"Number of Data Points\")\n"
   ]
  },
  {
   "cell_type": "markdown",
   "metadata": {},
   "source": [
    "## Pie plots"
   ]
  },
  {
   "cell_type": "code",
   "execution_count": 36,
   "metadata": {},
   "outputs": [
    {
     "data": {
      "text/plain": [
       "<matplotlib.axes._subplots.AxesSubplot at 0x1e962a31d08>"
      ]
     },
     "execution_count": 36,
     "metadata": {},
     "output_type": "execute_result"
    },
    {
     "data": {
      "image/png": "[encoded data removed]",
      "text/plain": [
       "<Figure size 360x360 with 1 Axes>"
      ]
     },
     "metadata": {},
     "output_type": "display_data"
    }
   ],
   "source": [
    "# Generate a pie plot showing the distribution of female versus male mice using pandas\n",
    "\n",
    "grouped_gender_df = pd.DataFrame(combined_data.groupby(\"Sex\")[\"Mouse ID\"].nunique())\n",
    "\n",
    "sex_type_list = list(grouped_gender_df.index)\n",
    "\n",
    "count_by_sex_list = list(grouped_gender_df[\"Mouse ID\"])\n",
    "\n",
    "df = pd.DataFrame({'count': count_by_sex_list},\n",
    "                  index=sex_type_list)\n",
    "\n",
    "df.plot.pie(y='count', figsize=(5, 5), autopct=\"%1.1f%%\", shadow=True, startangle=140)\n",
    "\n",
    "\n"
   ]
  },
  {
   "cell_type": "code",
   "execution_count": 37,
   "metadata": {},
   "outputs": [
    {
     "name": "stdout",
     "output_type": "stream",
     "text": [
      "        Mouse ID\n",
      "Sex             \n",
      "Female       124\n",
      "Male         125\n",
      "['Female', 'Male']\n",
      "[124, 125]\n"
     ]
    },
    {
     "data": {
      "text/plain": [
       "(-1.1199395799512024,\n",
       " 1.1085163149757233,\n",
       " -1.1187480755433892,\n",
       " 1.108793637086287)"
      ]
     },
     "execution_count": 37,
     "metadata": {},
     "output_type": "execute_result"
    },
    {
     "data": {
      "image/png": "[encoded data removed]",
      "text/plain": [
       "<Figure size 432x288 with 1 Axes>"
      ]
     },
     "metadata": {},
     "output_type": "display_data"
    }
   ],
   "source": [
    "# Generate a pie plot showing the distribution of female versus male mice using pyplot\n",
    "\n",
    "\n",
    "grouped_gender_df_2 = pd.DataFrame(combined_data.groupby(\"Sex\")[\"Mouse ID\"].nunique())\n",
    "\n",
    "sex_type_list = list(grouped_gender_df_2.index)\n",
    "\n",
    "count_by_sex_list = list(grouped_gender_df_2[\"Mouse ID\"])\n",
    "      \n",
    "\n",
    "# Labels for the sections of our pie chart\n",
    "labels = sex_type_list\n",
    "\n",
    "# The values of each section of the pie chart\n",
    "sizes = count_by_sex_list\n",
    "\n",
    "plt.pie(sizes, labels=sex_type_list, autopct=\"%1.1f%%\", shadow=True, startangle=140)\n",
    "\n",
    "# Tells matplotlib that we want a pie chart with equal axes\n",
    "plt.axis(\"equal\")\n"
   ]
  },
  {
   "cell_type": "markdown",
   "metadata": {},
   "source": [
    "## Quartiles, outliers and boxplots"
   ]
  },
  {
   "cell_type": "code",
   "execution_count": 38,
   "metadata": {},
   "outputs": [
    {
     "name": "stdout",
     "output_type": "stream",
     "text": [
      "-------------------------\n",
      "Capomulin lower boundry: 20.70456164999999\n",
      "Capomulin upper boundry: 51.83201549\n",
      "-------------------------\n",
      "-------------------------\n",
      "Ramicane lower boundry: 17.912664470000003\n",
      "Ramicane upper boundry: 54.30681135\n",
      "-------------------------\n",
      "-------------------------\n",
      "Infubinol lower boundry: 36.83290494999999\n",
      "Infubinol upper boundry: 82.74144559000001\n",
      "-------------------------\n",
      "-------------------------\n",
      "Ceftamin lower boundry: 25.355449580000002\n",
      "Ceftamin upper boundry: 87.66645829999999\n",
      "-------------------------\n"
     ]
    }
   ],
   "source": [
    "# Calculate the final tumor volume of each mouse across four of the most promising treatment regimens. Calculate the IQR and quantitatively determine if there are any potential outliers. \n",
    "promising_regimens = combined_data.groupby([\"Drug Regimen\", \"Mouse ID\"])['Timepoint'].max()\n",
    "promising_regimens = combined_data.merge(promising_regimens, on=[\"Mouse ID\",\"Timepoint\"], how=\"right\")\n",
    "\n",
    "#print(promising_regimens.head(40))\n",
    "\n",
    "promising_regimens.set_index(\"Drug Regimen\")\n",
    "\n",
    "capomulin = promising_regimens.loc[promising_regimens[\"Drug Regimen\"] == \"Capomulin\"][\"Tumor Volume (mm3)\"]\n",
    "ramicane = promising_regimens.loc[promising_regimens[\"Drug Regimen\"] == \"Ramicane\"][\"Tumor Volume (mm3)\"]\n",
    "infubinol = promising_regimens.loc[promising_regimens[\"Drug Regimen\"] == \"Infubinol\"][\"Tumor Volume (mm3)\"]\n",
    "ceftamin = promising_regimens.loc[promising_regimens[\"Drug Regimen\"] == \"Ceftamin\"][\"Tumor Volume (mm3)\"]\n",
    "\n",
    "capomulin_q = capomulin.quantile([0.25, 0.5, 0.75]) \n",
    "capomulin_l = capomulin_q[0.25]\n",
    "capomulin_u = capomulin_q[0.75]\n",
    "capomulin_iqr = (capomulin_u-capomulin_l)\n",
    "\n",
    "capomulin_lower = capomulin_l - (1.5*capomulin_iqr)\n",
    "capomulin_upper = capomulin_u + (1.5*capomulin_iqr)\n",
    "\n",
    "print(\"-------------------------\")  \n",
    "print(f\"Capomulin lower boundry: {capomulin_lower}\")\n",
    "print(f\"Capomulin upper boundry: {capomulin_upper}\")\n",
    "print(\"-------------------------\")  \n",
    "    \n",
    "      \n",
    "ramicane_q = ramicane.quantile([0.25, 0.5, 0.75]) \n",
    "ramicane_l = ramicane_q[0.25]\n",
    "ramicane_u = ramicane_q[0.75]\n",
    "ramicane_iqr = (ramicane_u-ramicane_l)\n",
    "\n",
    "ramicane_lower = ramicane_l - (1.5*ramicane_iqr)\n",
    "ramicane_upper = ramicane_u + (1.5*ramicane_iqr)\n",
    "\n",
    "print(\"-------------------------\")  \n",
    "print(f\"Ramicane lower boundry: {ramicane_lower}\")\n",
    "print(f\"Ramicane upper boundry: {ramicane_upper}\")\n",
    "print(\"-------------------------\")  \n",
    "\n",
    "infubinol_q = infubinol.quantile([0.25, 0.5, 0.75]) \n",
    "infubinol_l = infubinol_q[0.25]\n",
    "infubinol_u = infubinol_q[0.75]\n",
    "infubinol_iqr = (infubinol_u-infubinol_l)\n",
    "\n",
    "infubinol_lower = infubinol_l - (1.5*infubinol_iqr)\n",
    "infubinol_upper = infubinol_u + (1.5*infubinol_iqr)\n",
    "\n",
    "print(\"-------------------------\")  \n",
    "print(f\"Infubinol lower boundry: {infubinol_lower}\")\n",
    "print(f\"Infubinol upper boundry: {infubinol_upper}\")\n",
    "print(\"-------------------------\")        \n",
    "      \n",
    "ceftamin_q = ceftamin.quantile([0.25, 0.5, 0.75]) \n",
    "ceftamin_l = ceftamin_q[0.25]\n",
    "ceftamin_u = ceftamin_q[0.75]\n",
    "ceftamin_iqr = (ceftamin_u-ceftamin_l)\n",
    "\n",
    "ceftamin_lower = ceftamin_l - (1.5*ceftamin_iqr)\n",
    "ceftamin_upper = ceftamin_u + (1.5*ceftamin_iqr)\n",
    "\n",
    "print(\"-------------------------\")  \n",
    "print(f\"Ceftamin lower boundry: {ceftamin_lower}\")\n",
    "print(f\"Ceftamin upper boundry: {ceftamin_upper}\")\n",
    "print(\"-------------------------\")  "
   ]
  },
  {
   "cell_type": "code",
   "execution_count": 39,
   "metadata": {},
   "outputs": [
    {
     "data": {
      "text/plain": [
       "{'whiskers': [<matplotlib.lines.Line2D at 0x1e962b2b348>,\n",
       "  <matplotlib.lines.Line2D at 0x1e962b24c08>,\n",
       "  <matplotlib.lines.Line2D at 0x1e962b36ec8>,\n",
       "  <matplotlib.lines.Line2D at 0x1e962b36ac8>,\n",
       "  <matplotlib.lines.Line2D at 0x1e962b48b48>,\n",
       "  <matplotlib.lines.Line2D at 0x1e962b48ac8>,\n",
       "  <matplotlib.lines.Line2D at 0x1e962b56ec8>,\n",
       "  <matplotlib.lines.Line2D at 0x1e962b56b08>],\n",
       " 'caps': [<matplotlib.lines.Line2D at 0x1e962b2bfc8>,\n",
       "  <matplotlib.lines.Line2D at 0x1e962b2bb48>,\n",
       "  <matplotlib.lines.Line2D at 0x1e962b3cc88>,\n",
       "  <matplotlib.lines.Line2D at 0x1e962b3cd08>,\n",
       "  <matplotlib.lines.Line2D at 0x1e962b48c88>,\n",
       "  <matplotlib.lines.Line2D at 0x1e962b4fdc8>,\n",
       "  <matplotlib.lines.Line2D at 0x1e962b5d508>,\n",
       "  <matplotlib.lines.Line2D at 0x1e962b5d188>],\n",
       " 'boxes': [<matplotlib.lines.Line2D at 0x1e962b24948>,\n",
       "  <matplotlib.lines.Line2D at 0x1e962b2ee08>,\n",
       "  <matplotlib.lines.Line2D at 0x1e962af9688>,\n",
       "  <matplotlib.lines.Line2D at 0x1e962b4fd48>],\n",
       " 'medians': [<matplotlib.lines.Line2D at 0x1e962b2ec48>,\n",
       "  <matplotlib.lines.Line2D at 0x1e962b3cdc8>,\n",
       "  <matplotlib.lines.Line2D at 0x1e962b4fec8>,\n",
       "  <matplotlib.lines.Line2D at 0x1e962b5da48>],\n",
       " 'fliers': [<matplotlib.lines.Line2D at 0x1e962b2ed48>,\n",
       "  <matplotlib.lines.Line2D at 0x1e962b42ec8>,\n",
       "  <matplotlib.lines.Line2D at 0x1e962b4ff88>,\n",
       "  <matplotlib.lines.Line2D at 0x1e962b5df88>],\n",
       " 'means': []}"
      ]
     },
     "execution_count": 39,
     "metadata": {},
     "output_type": "execute_result"
    },
    {
     "data": {
      "image/png": "[encoded data removed]",
      "text/plain": [
       "<Figure size 432x288 with 1 Axes>"
      ]
     },
     "metadata": {
      "needs_background": "light"
     },
     "output_type": "display_data"
    }
   ],
   "source": [
    "# Generate a box plot of the final tumor volume of each mouse across four regimens of interest\n",
    "\n",
    "plt.boxplot([capomulin, ramicane, infubinol, ceftamin], labels=[\"capomulin\", \"ramicane\", \"infubinol\", \"ceftamin\"])"
   ]
  },
  {
   "cell_type": "markdown",
   "metadata": {},
   "source": [
    "## Line and scatter plots"
   ]
  },
  {
   "cell_type": "code",
   "execution_count": 40,
   "metadata": {},
   "outputs": [
    {
     "data": {
      "text/plain": [
       "[<matplotlib.lines.Line2D at 0x1e962bbcdc8>]"
      ]
     },
     "execution_count": 40,
     "metadata": {},
     "output_type": "execute_result"
    },
    {
     "data": {
      "image/png": "[encoded data removed]",
      "text/plain": [
       "<Figure size 432x288 with 1 Axes>"
      ]
     },
     "metadata": {
      "needs_background": "light"
     },
     "output_type": "display_data"
    }
   ],
   "source": [
    "# Generate a line plot of time point versus tumor volume for a mouse treated with Capomulin\n",
    "x = combined_data.set_index(\"Drug Regimen\")\n",
    "capomulin = x.loc[\"Capomulin\", : ]\n",
    "capomulin_0 = capomulin.iloc[0][\"Mouse ID\"]\n",
    "capomulin = capomulin.loc[capomulin[\"Mouse ID\"] == capomulin_0]\n",
    "# print(capomulin)\n",
    "\n",
    "plt.xlabel = \"Timepoint\"\n",
    "plt.ylabel = \"Tumor Volume (mm3)\"\n",
    "plt.plot(capomulin[\"Timepoint\"], capomulin[\"Tumor Volume (mm3)\"])"
   ]
  },
  {
   "cell_type": "code",
   "execution_count": 41,
   "metadata": {},
   "outputs": [
    {
     "data": {
      "text/plain": [
       "<matplotlib.collections.PathCollection at 0x1e962c0e388>"
      ]
     },
     "execution_count": 41,
     "metadata": {},
     "output_type": "execute_result"
    },
    {
     "data": {
      "image/png": "[encoded data removed]",
      "text/plain": [
       "<Figure size 432x288 with 1 Axes>"
      ]
     },
     "metadata": {
      "needs_background": "light"
     },
     "output_type": "display_data"
    }
   ],
   "source": [
    "# Generate a scatter plot of mouse weight versus average tumor volume for the Capomulin regimen\n",
    "x = combined_data.set_index(\"Drug Regimen\")\n",
    "capomulin = x.loc[\"Capomulin\", : ]\n",
    "capomulin_0 = capomulin[\"Mouse ID\"]\n",
    "capomulin = capomulin.loc[capomulin[\"Mouse ID\"] == capomulin_0]\n",
    "\n",
    "plt.xlabel = \"Weight (g)\"\n",
    "plt.ylabel = \"Tumor Volume (mm3)\"\n",
    "average = capomulin.groupby([\"Mouse ID\"]).mean()\n",
    "plt.scatter(average[\"Weight (g)\"], average[\"Tumor Volume (mm3)\"])\n",
    "\n"
   ]
  },
  {
   "cell_type": "code",
   "execution_count": 42,
   "metadata": {},
   "outputs": [
    {
     "data": {
      "text/plain": [
       "[<matplotlib.lines.Line2D at 0x1e962c633c8>]"
      ]
     },
     "execution_count": 42,
     "metadata": {},
     "output_type": "execute_result"
    },
    {
     "data": {
      "image/png": "[encoded data removed]",
      "text/plain": [
       "<Figure size 432x288 with 1 Axes>"
      ]
     },
     "metadata": {
      "needs_background": "light"
     },
     "output_type": "display_data"
    }
   ],
   "source": [
    "# Calculate the correlation coefficient and linear regression model for mouse weight and average tumor volume for the Capomulin regimen\n",
    "\n",
    "x_values = average[\"Weight (g)\"]\n",
    "y_values = average[\"Tumor Volume (mm3)\"]\n",
    "(slope, intercept, rvalue, pvalue, stderr) = st.linregress(x_values, y_values)\n",
    "regress_values = x_values * slope + intercept\n",
    "plt.scatter(x_values, y_values)\n",
    "plt.plot(average[\"Weight (g)\"], regress_values, \"r-\")"
   ]
  },
  {
   "cell_type": "code",
   "execution_count": null,
   "metadata": {},
   "outputs": [],
   "source": []
  }
 ],
 "metadata": {
  "anaconda-cloud": {},
  "kernelspec": {
   "display_name": "Python 3",
   "language": "python",
   "name": "python3"
  },
  "language_info": {
   "codemirror_mode": {
    "name": "ipython",
    "version": 3
   },
   "file_extension": ".py",
   "mimetype": "text/x-python",
   "name": "python",
   "nbconvert_exporter": "python",
   "pygments_lexer": "ipython3",
   "version": "3.7.4"
  }
 },
 "nbformat": 4,
 "nbformat_minor": 2
}
